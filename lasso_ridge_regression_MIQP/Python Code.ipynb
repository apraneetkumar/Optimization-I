{
  "cells": [
    {
      "cell_type": "markdown",
      "metadata": {
        "id": "sAKaSiLtoYgu"
      },
      "source": [
        "# Project 3: Regression problem using Gurobi and Lasso"
      ]
    },
    {
      "cell_type": "markdown",
      "metadata": {
        "id": "imVR0VO6oYgv"
      },
      "source": [
        "| Name | EID |\n",
        "| --- | --- |\n",
        "| Praneet Kumar Alamuri|pa22222 |\n",
        "| Kshitij Mahajan| ksm3267 |\n",
        "| Shubhada Kapre | sk55489 |\n",
        "| Leyanng Xu| clw4642 |"
      ]
    },
    {
      "cell_type": "code",
      "execution_count": null,
      "metadata": {
        "colab": {
          "base_uri": "https://localhost:8080/"
        },
        "id": "9rbCtSa0oYgw",
        "outputId": "02f8ca28-d2cd-43bb-a8a4-6342fa7665e3"
      },
      "outputs": [
        {
          "output_type": "stream",
          "name": "stdout",
          "text": [
            "Looking in indexes: https://pypi.org/simple, https://us-python.pkg.dev/colab-wheels/public/simple/\n",
            "Collecting gurobipy\n",
            "  Downloading gurobipy-10.0.0-cp37-cp37m-manylinux2014_x86_64.whl (12.9 MB)\n",
            "\u001b[K     |████████████████████████████████| 12.9 MB 5.2 MB/s \n",
            "\u001b[?25hInstalling collected packages: gurobipy\n",
            "Successfully installed gurobipy-10.0.0\n"
          ]
        }
      ],
      "source": [
        "!pip install gurobipy\n",
        "import pandas as pd\n",
        "import numpy as np\n",
        "import gurobipy as gp\n",
        "import matplotlib.pyplot as plt\n",
        "import os\n",
        "import seaborn as sns; sns.set_theme()\n",
        "from sklearn.linear_model import Lasso\n",
        "from sklearn.model_selection import KFold\n",
        "################################################################\n",
        "GUROBI_TIME_LIMIT = 360\n",
        "################################################################\n",
        "from sklearn.metrics import mean_squared_error\n",
        "from sklearn.metrics import r2_score\n",
        "from sklearn import linear_model\n",
        "\n",
        "import warnings\n",
        "warnings.filterwarnings(\"ignore\")\n",
        "\n",
        "\n",
        "%matplotlib inline\n",
        "pd.set_option('display.float_format', lambda x: '%.5f' % x)\n",
        "\n",
        "np.random.seed(seed=42)"
      ]
    },
    {
      "cell_type": "markdown",
      "metadata": {
        "id": "78wRK2rXoYgx"
      },
      "source": [
        "## Data pre-processing"
      ]
    },
    {
      "cell_type": "code",
      "execution_count": null,
      "metadata": {
        "colab": {
          "base_uri": "https://localhost:8080/",
          "height": 300
        },
        "id": "Lip7-I2ooYgy",
        "outputId": "e4bafce0-75b5-45c5-82f2-15e27047bc2f"
      },
      "outputs": [
        {
          "output_type": "execute_result",
          "data": {
            "text/plain": [
              "         y      X0       X1      X2       X3       X4       X5       X6  \\\n",
              "0  8.53615 1.00000 -1.53541 0.71889 -2.09915 -0.44284 -0.59898 -1.64257   \n",
              "1  4.80834 1.00000 -1.73461 0.55198 -2.14767 -1.55294  1.51491 -1.14397   \n",
              "2 -1.53043 1.00000  0.09726 0.10763 -0.19422  0.33545 -0.40820  0.13326   \n",
              "3 -0.42824 1.00000 -0.06770 0.55784  0.70085 -1.12138  1.72227  0.61353   \n",
              "4  0.56669 1.00000  0.48873 0.21148  0.56839  0.64684  0.16387 -0.00215   \n",
              "\n",
              "       X7       X8  ...      X41      X42      X43      X44      X45      X46  \\\n",
              "0 0.20776  0.76064  ...  0.36187  1.79310 -0.63129 -0.06175  0.51105  0.48875   \n",
              "1 0.73759  1.32124  ... -0.67798 -0.16568  0.06540  0.13716  1.25820 -0.12083   \n",
              "2 0.70618  0.39497  ...  1.10880  0.33379  0.28205 -1.08629 -0.11535  0.25786   \n",
              "3 0.70091 -0.41798  ...  0.69251 -0.35099  0.62456  0.43452 -0.36741 -1.14468   \n",
              "4 0.12514  0.49357  ... -0.00060  1.07528  0.18228 -1.13846  0.10609  0.54464   \n",
              "\n",
              "       X47      X48      X49      X50  \n",
              "0 -0.61277 -0.47105 -1.13978 -0.26077  \n",
              "1 -1.56483 -0.24256 -0.00183  1.18745  \n",
              "2 -0.08884 -0.75123  1.45061  0.29059  \n",
              "3 -0.13652 -0.55721  0.41630  0.48449  \n",
              "4 -0.38349 -0.42577  2.66765 -0.05075  \n",
              "\n",
              "[5 rows x 52 columns]"
            ],
            "text/html": [
              "\n",
              "  <div id=\"df-c95f11cf-e45e-4713-b8c9-9fcfcd387592\">\n",
              "    <div class=\"colab-df-container\">\n",
              "      <div>\n",
              "<style scoped>\n",
              "    .dataframe tbody tr th:only-of-type {\n",
              "        vertical-align: middle;\n",
              "    }\n",
              "\n",
              "    .dataframe tbody tr th {\n",
              "        vertical-align: top;\n",
              "    }\n",
              "\n",
              "    .dataframe thead th {\n",
              "        text-align: right;\n",
              "    }\n",
              "</style>\n",
              "<table border=\"1\" class=\"dataframe\">\n",
              "  <thead>\n",
              "    <tr style=\"text-align: right;\">\n",
              "      <th></th>\n",
              "      <th>y</th>\n",
              "      <th>X0</th>\n",
              "      <th>X1</th>\n",
              "      <th>X2</th>\n",
              "      <th>X3</th>\n",
              "      <th>X4</th>\n",
              "      <th>X5</th>\n",
              "      <th>X6</th>\n",
              "      <th>X7</th>\n",
              "      <th>X8</th>\n",
              "      <th>...</th>\n",
              "      <th>X41</th>\n",
              "      <th>X42</th>\n",
              "      <th>X43</th>\n",
              "      <th>X44</th>\n",
              "      <th>X45</th>\n",
              "      <th>X46</th>\n",
              "      <th>X47</th>\n",
              "      <th>X48</th>\n",
              "      <th>X49</th>\n",
              "      <th>X50</th>\n",
              "    </tr>\n",
              "  </thead>\n",
              "  <tbody>\n",
              "    <tr>\n",
              "      <th>0</th>\n",
              "      <td>8.53615</td>\n",
              "      <td>1.00000</td>\n",
              "      <td>-1.53541</td>\n",
              "      <td>0.71889</td>\n",
              "      <td>-2.09915</td>\n",
              "      <td>-0.44284</td>\n",
              "      <td>-0.59898</td>\n",
              "      <td>-1.64257</td>\n",
              "      <td>0.20776</td>\n",
              "      <td>0.76064</td>\n",
              "      <td>...</td>\n",
              "      <td>0.36187</td>\n",
              "      <td>1.79310</td>\n",
              "      <td>-0.63129</td>\n",
              "      <td>-0.06175</td>\n",
              "      <td>0.51105</td>\n",
              "      <td>0.48875</td>\n",
              "      <td>-0.61277</td>\n",
              "      <td>-0.47105</td>\n",
              "      <td>-1.13978</td>\n",
              "      <td>-0.26077</td>\n",
              "    </tr>\n",
              "    <tr>\n",
              "      <th>1</th>\n",
              "      <td>4.80834</td>\n",
              "      <td>1.00000</td>\n",
              "      <td>-1.73461</td>\n",
              "      <td>0.55198</td>\n",
              "      <td>-2.14767</td>\n",
              "      <td>-1.55294</td>\n",
              "      <td>1.51491</td>\n",
              "      <td>-1.14397</td>\n",
              "      <td>0.73759</td>\n",
              "      <td>1.32124</td>\n",
              "      <td>...</td>\n",
              "      <td>-0.67798</td>\n",
              "      <td>-0.16568</td>\n",
              "      <td>0.06540</td>\n",
              "      <td>0.13716</td>\n",
              "      <td>1.25820</td>\n",
              "      <td>-0.12083</td>\n",
              "      <td>-1.56483</td>\n",
              "      <td>-0.24256</td>\n",
              "      <td>-0.00183</td>\n",
              "      <td>1.18745</td>\n",
              "    </tr>\n",
              "    <tr>\n",
              "      <th>2</th>\n",
              "      <td>-1.53043</td>\n",
              "      <td>1.00000</td>\n",
              "      <td>0.09726</td>\n",
              "      <td>0.10763</td>\n",
              "      <td>-0.19422</td>\n",
              "      <td>0.33545</td>\n",
              "      <td>-0.40820</td>\n",
              "      <td>0.13326</td>\n",
              "      <td>0.70618</td>\n",
              "      <td>0.39497</td>\n",
              "      <td>...</td>\n",
              "      <td>1.10880</td>\n",
              "      <td>0.33379</td>\n",
              "      <td>0.28205</td>\n",
              "      <td>-1.08629</td>\n",
              "      <td>-0.11535</td>\n",
              "      <td>0.25786</td>\n",
              "      <td>-0.08884</td>\n",
              "      <td>-0.75123</td>\n",
              "      <td>1.45061</td>\n",
              "      <td>0.29059</td>\n",
              "    </tr>\n",
              "    <tr>\n",
              "      <th>3</th>\n",
              "      <td>-0.42824</td>\n",
              "      <td>1.00000</td>\n",
              "      <td>-0.06770</td>\n",
              "      <td>0.55784</td>\n",
              "      <td>0.70085</td>\n",
              "      <td>-1.12138</td>\n",
              "      <td>1.72227</td>\n",
              "      <td>0.61353</td>\n",
              "      <td>0.70091</td>\n",
              "      <td>-0.41798</td>\n",
              "      <td>...</td>\n",
              "      <td>0.69251</td>\n",
              "      <td>-0.35099</td>\n",
              "      <td>0.62456</td>\n",
              "      <td>0.43452</td>\n",
              "      <td>-0.36741</td>\n",
              "      <td>-1.14468</td>\n",
              "      <td>-0.13652</td>\n",
              "      <td>-0.55721</td>\n",
              "      <td>0.41630</td>\n",
              "      <td>0.48449</td>\n",
              "    </tr>\n",
              "    <tr>\n",
              "      <th>4</th>\n",
              "      <td>0.56669</td>\n",
              "      <td>1.00000</td>\n",
              "      <td>0.48873</td>\n",
              "      <td>0.21148</td>\n",
              "      <td>0.56839</td>\n",
              "      <td>0.64684</td>\n",
              "      <td>0.16387</td>\n",
              "      <td>-0.00215</td>\n",
              "      <td>0.12514</td>\n",
              "      <td>0.49357</td>\n",
              "      <td>...</td>\n",
              "      <td>-0.00060</td>\n",
              "      <td>1.07528</td>\n",
              "      <td>0.18228</td>\n",
              "      <td>-1.13846</td>\n",
              "      <td>0.10609</td>\n",
              "      <td>0.54464</td>\n",
              "      <td>-0.38349</td>\n",
              "      <td>-0.42577</td>\n",
              "      <td>2.66765</td>\n",
              "      <td>-0.05075</td>\n",
              "    </tr>\n",
              "  </tbody>\n",
              "</table>\n",
              "<p>5 rows × 52 columns</p>\n",
              "</div>\n",
              "      <button class=\"colab-df-convert\" onclick=\"convertToInteractive('df-c95f11cf-e45e-4713-b8c9-9fcfcd387592')\"\n",
              "              title=\"Convert this dataframe to an interactive table.\"\n",
              "              style=\"display:none;\">\n",
              "        \n",
              "  <svg xmlns=\"http://www.w3.org/2000/svg\" height=\"24px\"viewBox=\"0 0 24 24\"\n",
              "       width=\"24px\">\n",
              "    <path d=\"M0 0h24v24H0V0z\" fill=\"none\"/>\n",
              "    <path d=\"M18.56 5.44l.94 2.06.94-2.06 2.06-.94-2.06-.94-.94-2.06-.94 2.06-2.06.94zm-11 1L8.5 8.5l.94-2.06 2.06-.94-2.06-.94L8.5 2.5l-.94 2.06-2.06.94zm10 10l.94 2.06.94-2.06 2.06-.94-2.06-.94-.94-2.06-.94 2.06-2.06.94z\"/><path d=\"M17.41 7.96l-1.37-1.37c-.4-.4-.92-.59-1.43-.59-.52 0-1.04.2-1.43.59L10.3 9.45l-7.72 7.72c-.78.78-.78 2.05 0 2.83L4 21.41c.39.39.9.59 1.41.59.51 0 1.02-.2 1.41-.59l7.78-7.78 2.81-2.81c.8-.78.8-2.07 0-2.86zM5.41 20L4 18.59l7.72-7.72 1.47 1.35L5.41 20z\"/>\n",
              "  </svg>\n",
              "      </button>\n",
              "      \n",
              "  <style>\n",
              "    .colab-df-container {\n",
              "      display:flex;\n",
              "      flex-wrap:wrap;\n",
              "      gap: 12px;\n",
              "    }\n",
              "\n",
              "    .colab-df-convert {\n",
              "      background-color: #E8F0FE;\n",
              "      border: none;\n",
              "      border-radius: 50%;\n",
              "      cursor: pointer;\n",
              "      display: none;\n",
              "      fill: #1967D2;\n",
              "      height: 32px;\n",
              "      padding: 0 0 0 0;\n",
              "      width: 32px;\n",
              "    }\n",
              "\n",
              "    .colab-df-convert:hover {\n",
              "      background-color: #E2EBFA;\n",
              "      box-shadow: 0px 1px 2px rgba(60, 64, 67, 0.3), 0px 1px 3px 1px rgba(60, 64, 67, 0.15);\n",
              "      fill: #174EA6;\n",
              "    }\n",
              "\n",
              "    [theme=dark] .colab-df-convert {\n",
              "      background-color: #3B4455;\n",
              "      fill: #D2E3FC;\n",
              "    }\n",
              "\n",
              "    [theme=dark] .colab-df-convert:hover {\n",
              "      background-color: #434B5C;\n",
              "      box-shadow: 0px 1px 3px 1px rgba(0, 0, 0, 0.15);\n",
              "      filter: drop-shadow(0px 1px 2px rgba(0, 0, 0, 0.3));\n",
              "      fill: #FFFFFF;\n",
              "    }\n",
              "  </style>\n",
              "\n",
              "      <script>\n",
              "        const buttonEl =\n",
              "          document.querySelector('#df-c95f11cf-e45e-4713-b8c9-9fcfcd387592 button.colab-df-convert');\n",
              "        buttonEl.style.display =\n",
              "          google.colab.kernel.accessAllowed ? 'block' : 'none';\n",
              "\n",
              "        async function convertToInteractive(key) {\n",
              "          const element = document.querySelector('#df-c95f11cf-e45e-4713-b8c9-9fcfcd387592');\n",
              "          const dataTable =\n",
              "            await google.colab.kernel.invokeFunction('convertToInteractive',\n",
              "                                                     [key], {});\n",
              "          if (!dataTable) return;\n",
              "\n",
              "          const docLinkHtml = 'Like what you see? Visit the ' +\n",
              "            '<a target=\"_blank\" href=https://colab.research.google.com/notebooks/data_table.ipynb>data table notebook</a>'\n",
              "            + ' to learn more about interactive tables.';\n",
              "          element.innerHTML = '';\n",
              "          dataTable['output_type'] = 'display_data';\n",
              "          await google.colab.output.renderOutput(dataTable, element);\n",
              "          const docLink = document.createElement('div');\n",
              "          docLink.innerHTML = docLinkHtml;\n",
              "          element.appendChild(docLink);\n",
              "        }\n",
              "      </script>\n",
              "    </div>\n",
              "  </div>\n",
              "  "
            ]
          },
          "metadata": {},
          "execution_count": 29
        }
      ],
      "source": [
        "train = pd.read_csv('https://raw.githubusercontent.com/KshitijMahajan1998/Optimization/main/training_data.csv')\n",
        "test = pd.read_csv('https://raw.githubusercontent.com/KshitijMahajan1998/Optimization/main/test_data.csv')\n",
        "\n",
        "# Separate dependant and independant variables\n",
        "X_train_old, y_train_old= train.drop(columns='y').to_numpy(), train['y'].to_numpy()\n",
        "\n",
        "train_df = train.copy()\n",
        "train_df.insert(1,column='X0',value=np.ones(len(train)))\n",
        "\n",
        "test_df =test.copy()\n",
        "test_df.insert(1,column='X0',value=np.ones(len(test)))\n",
        "\n",
        "train_df.head()"
      ]
    },
    {
      "cell_type": "code",
      "execution_count": null,
      "metadata": {
        "id": "2q0CjZiaoYgy"
      },
      "outputs": [],
      "source": [
        "# Get a list of shuffled indices from the training data and use the indices to create a new, shuffled training df\n",
        "shuffled_index = np.random.permutation(train_df.index)\n",
        "shuffled_train = train_df.iloc[shuffled_index]\n",
        "\n",
        "# Separate out the X and y variables from the training and test sets. \n",
        "X_train, y_train = shuffled_train.drop(columns='y').to_numpy(), shuffled_train['y'].to_numpy()\n",
        "X_test, y_test = test_df.drop(columns='y').to_numpy(), test_df['y'].to_numpy()"
      ]
    },
    {
      "cell_type": "markdown",
      "metadata": {
        "id": "wbG963jaoYgy"
      },
      "source": [
        "Now , we need to get our k_fold indices. \n"
      ]
    },
    {
      "cell_type": "code",
      "execution_count": null,
      "metadata": {
        "colab": {
          "base_uri": "https://localhost:8080/"
        },
        "id": "8T3Og18coYgy",
        "outputId": "c25e73a7-eb36-4d2c-e017-1bb2fe9d5d9d"
      },
      "outputs": [
        {
          "output_type": "stream",
          "name": "stdout",
          "text": [
            "{'train_indices': array([ 25,  26,  27,  28,  29,  30,  31,  32,  33,  34,  35,  36,  37,\n",
            "        38,  39,  40,  41,  42,  43,  44,  45,  46,  47,  48,  49,  50,\n",
            "        51,  52,  53,  54,  55,  56,  57,  58,  59,  60,  61,  62,  63,\n",
            "        64,  65,  66,  67,  68,  69,  70,  71,  72,  73,  74,  75,  76,\n",
            "        77,  78,  79,  80,  81,  82,  83,  84,  85,  86,  87,  88,  89,\n",
            "        90,  91,  92,  93,  94,  95,  96,  97,  98,  99, 100, 101, 102,\n",
            "       103, 104, 105, 106, 107, 108, 109, 110, 111, 112, 113, 114, 115,\n",
            "       116, 117, 118, 119, 120, 121, 122, 123, 124, 125, 126, 127, 128,\n",
            "       129, 130, 131, 132, 133, 134, 135, 136, 137, 138, 139, 140, 141,\n",
            "       142, 143, 144, 145, 146, 147, 148, 149, 150, 151, 152, 153, 154,\n",
            "       155, 156, 157, 158, 159, 160, 161, 162, 163, 164, 165, 166, 167,\n",
            "       168, 169, 170, 171, 172, 173, 174, 175, 176, 177, 178, 179, 180,\n",
            "       181, 182, 183, 184, 185, 186, 187, 188, 189, 190, 191, 192, 193,\n",
            "       194, 195, 196, 197, 198, 199, 200, 201, 202, 203, 204, 205, 206,\n",
            "       207, 208, 209, 210, 211, 212, 213, 214, 215, 216, 217, 218, 219,\n",
            "       220, 221, 222, 223, 224, 225, 226, 227, 228, 229, 230, 231, 232,\n",
            "       233, 234, 235, 236, 237, 238, 239, 240, 241, 242, 243, 244, 245,\n",
            "       246, 247, 248, 249]), 'test_indices': array([ 0,  1,  2,  3,  4,  5,  6,  7,  8,  9, 10, 11, 12, 13, 14, 15, 16,\n",
            "       17, 18, 19, 20, 21, 22, 23, 24])}\n"
          ]
        }
      ],
      "source": [
        "k_folds = 10\n",
        "split_indices = KFold(n_splits=k_folds).split(X_train)\n",
        "\n",
        "k_folds_dict=dict() \n",
        "for i, indices in enumerate(split_indices):\n",
        "    index_dict = {}\n",
        "    # The training indices are in the first item of the tuple and the testing indices are in the second.\n",
        "    index_dict['train_indices'] = indices[0]\n",
        "    index_dict['test_indices'] = indices[1]\n",
        "    k_folds_dict[i] = index_dict\n",
        "\n",
        "# Sample of the dicitionary printed for the first fold\n",
        "print(k_folds_dict[0])"
      ]
    },
    {
      "cell_type": "markdown",
      "metadata": {
        "id": "QEalqr4EoYgz"
      },
      "source": [
        "## Select the optimal K value with Gurobi"
      ]
    },
    {
      "cell_type": "code",
      "execution_count": null,
      "metadata": {
        "id": "Au36BvnwoYgz"
      },
      "outputs": [],
      "source": [
        "# Create a dataframe to store the cross validation results for the gurobi optimization\n",
        "\n",
        "options_for_k = np.arange(5,51,5)\n",
        "\n",
        "gurobi_results = pd.DataFrame(index=k_folds_dict.keys(),columns=options_for_k )\n"
      ]
    },
    {
      "cell_type": "markdown",
      "metadata": {
        "id": "SM_eNZl_oYgz"
      },
      "source": [
        "Initialize basic parameters"
      ]
    },
    {
      "cell_type": "code",
      "execution_count": null,
      "metadata": {
        "id": "3eKzt4pdoYg0"
      },
      "outputs": [],
      "source": [
        "M = 50 \n",
        "\n",
        "# Number of independent variables in our problem.\n",
        "beta = X_train.shape[1] - 1\n",
        "\n",
        "# The betas are continuous, but the z variables will be binary\n",
        "v_type = ['C']*(beta+1) + ['B']*beta\n",
        "\n",
        "# Betas can be negative in this problem. But the z variables are binary 1/0\n",
        "lower_bounds = [-M]*(beta+1) + [0]*beta"
      ]
    },
    {
      "cell_type": "code",
      "execution_count": null,
      "metadata": {
        "id": "4ZrSuOvSoYg0"
      },
      "outputs": [],
      "source": [
        "def solve_gurobi(X,y,k):\n",
        "    \"\"\"Returns an array of the 51 beta coefficients  which are optimal betas, solved with gurobi.\n",
        "    Inputs: X and y data as numpy arrays. And the k value.\n",
        "    \"\"\"\n",
        "\n",
        "    # Create the matrices for the quadratic and linear objective functions\n",
        "    quadratic_obj = np.zeros(shape=(2*beta+1,2*beta+1))\n",
        "    quadratic_obj[:(beta+1),:(beta+1)] = X.T @ X\n",
        "\n",
        "    linear_obj = np.zeros(shape=beta*2+1)\n",
        "    linear_obj[:(beta+1)] = -2*y.T @ X\n",
        "\n",
        "\n",
        "    \n",
        "    sense = []\n",
        "    b = []\n",
        "\n",
        "    # We need two big M constraints for each beta and 1 constraint to make sure beta number = k \n",
        "    num_constraints = beta * 2 + 1\n",
        "    A = np.zeros(shape=(num_constraints,len(linear_obj)))\n",
        "\n",
        "\n",
        "    # Constraint that the number of independent betas should sum to <= k. Excludes the intercept beta.\n",
        "    A[0,(beta+1):] = 1\n",
        "    sense.append('<')\n",
        "    b.append(k)\n",
        "\n",
        "    # Add the big M constraints\n",
        "    # Skip the intercept term \n",
        "    # Start on row index 1 (because 0 is set above)\n",
        "    row_index = 1\n",
        "    for i in range(1,beta+1):\n",
        "        # Set constraint that beta must be less than M\n",
        "        A[row_index,i] = 1\n",
        "        A[row_index, i + beta] = -M\n",
        "        sense.append('<')\n",
        "        b.append(0)\n",
        "        row_index += 1\n",
        "\n",
        "        # Set constraint that beta must be greater than -M\n",
        "        A[row_index,i] = 1\n",
        "        A[row_index, i + beta] = M\n",
        "        sense.append('>')\n",
        "        b.append(0)\n",
        "\n",
        "        row_index += 1\n",
        "\n",
        "    #Solve using Gurobi\n",
        "    regression = gp.Model()\n",
        "    \n",
        "    regression_x = regression.addMVar(len(linear_obj), lb=lower_bounds, vtype=v_type)\n",
        "    portMod_con = regression.addMConstr(A, regression_x, sense, b)\n",
        "    regression.setMObjective(quadratic_obj,linear_obj,0,sense=gp.GRB.MINIMIZE)\n",
        "\n",
        "    regression.Params.OutputFlag = 0 \n",
        "    regression.Params.TimeLimit = GUROBI_TIME_LIMIT\n",
        "    regression.optimize()\n",
        "\n",
        "    # Return all of the betas as the results!!\n",
        "    return regression_x.x[:(beta+1)]\n",
        "\n",
        "# pd.DataFrame(solve_gurobi(X_train,y_train,10))"
      ]
    },
    {
      "cell_type": "markdown",
      "metadata": {
        "id": "kV7ICirxoYg0"
      },
      "source": [
        "Functions for prediction and calculating SSE"
      ]
    },
    {
      "cell_type": "code",
      "execution_count": null,
      "metadata": {
        "id": "tMl2HRJ8oYg0"
      },
      "outputs": [],
      "source": [
        "def predict_y(X, betas):\n",
        "    \"\"\"Outputs the predicted y values\"\"\"\n",
        "    return X @ betas\n",
        "\n",
        "def sse(y_true, y_predict):\n",
        "    \"\"\"Returns the sum of squared errors.\"\"\"\n",
        "    return sum((y_true - y_predict)**2)"
      ]
    },
    {
      "cell_type": "code",
      "execution_count": null,
      "metadata": {
        "colab": {
          "base_uri": "https://localhost:8080/",
          "height": 363
        },
        "id": "kb3E3DdeoYg1",
        "outputId": "38ce23ab-d263-48af-89a7-a9e4bd2c11d1"
      },
      "outputs": [
        {
          "output_type": "execute_result",
          "data": {
            "text/plain": [
              "         5        10       15        20       25        30        35  \\\n",
              "0 121.08483 83.22601 84.98515  82.43595 87.58834  95.66110  97.65884   \n",
              "1  76.27096 68.72295 85.44507  91.70347 87.32446  95.86751  96.42208   \n",
              "2  76.40846 62.50184 70.91066  83.65107 75.81232  73.46238  78.72707   \n",
              "3  72.64028 62.72359 71.70770  71.71293 70.69936  79.46967  76.85514   \n",
              "4 118.95958 82.00438 83.84794  80.40048 80.64813  86.74073  90.89855   \n",
              "5  82.97925 61.88108 65.54801  59.53692 75.45312  67.36771  61.14406   \n",
              "6  76.18434 65.08857 69.81931  70.62222 68.35383  70.47346  67.89549   \n",
              "7  60.29282 48.66334 59.89032  58.02635 56.43211  55.66685  54.96695   \n",
              "8 133.75785 93.39369 99.85986 105.95280 98.82562 105.08918 104.69604   \n",
              "9  95.53616 75.76057 87.45220  89.38065 81.48977  84.18368  88.06178   \n",
              "\n",
              "         40        45        50  \n",
              "0  97.40345  96.66076  97.57031  \n",
              "1  96.91586 100.55214 101.13772  \n",
              "2  80.83133  80.58768  79.96562  \n",
              "3  77.86652  77.24967  78.33711  \n",
              "4  87.67083  85.88534  86.93229  \n",
              "5  66.13959  67.73551  67.36372  \n",
              "6  71.89055  74.54640  75.06871  \n",
              "7  60.79733  64.49536  63.55508  \n",
              "8 103.96380 104.82810 104.08194  \n",
              "9  84.99322  84.14878  86.44153  "
            ],
            "text/html": [
              "\n",
              "  <div id=\"df-e22a68b5-f0c6-47b9-9302-9ecf3892e60a\">\n",
              "    <div class=\"colab-df-container\">\n",
              "      <div>\n",
              "<style scoped>\n",
              "    .dataframe tbody tr th:only-of-type {\n",
              "        vertical-align: middle;\n",
              "    }\n",
              "\n",
              "    .dataframe tbody tr th {\n",
              "        vertical-align: top;\n",
              "    }\n",
              "\n",
              "    .dataframe thead th {\n",
              "        text-align: right;\n",
              "    }\n",
              "</style>\n",
              "<table border=\"1\" class=\"dataframe\">\n",
              "  <thead>\n",
              "    <tr style=\"text-align: right;\">\n",
              "      <th></th>\n",
              "      <th>5</th>\n",
              "      <th>10</th>\n",
              "      <th>15</th>\n",
              "      <th>20</th>\n",
              "      <th>25</th>\n",
              "      <th>30</th>\n",
              "      <th>35</th>\n",
              "      <th>40</th>\n",
              "      <th>45</th>\n",
              "      <th>50</th>\n",
              "    </tr>\n",
              "  </thead>\n",
              "  <tbody>\n",
              "    <tr>\n",
              "      <th>0</th>\n",
              "      <td>121.08483</td>\n",
              "      <td>83.22601</td>\n",
              "      <td>84.98515</td>\n",
              "      <td>82.43595</td>\n",
              "      <td>87.58834</td>\n",
              "      <td>95.66110</td>\n",
              "      <td>97.65884</td>\n",
              "      <td>97.40345</td>\n",
              "      <td>96.66076</td>\n",
              "      <td>97.57031</td>\n",
              "    </tr>\n",
              "    <tr>\n",
              "      <th>1</th>\n",
              "      <td>76.27096</td>\n",
              "      <td>68.72295</td>\n",
              "      <td>85.44507</td>\n",
              "      <td>91.70347</td>\n",
              "      <td>87.32446</td>\n",
              "      <td>95.86751</td>\n",
              "      <td>96.42208</td>\n",
              "      <td>96.91586</td>\n",
              "      <td>100.55214</td>\n",
              "      <td>101.13772</td>\n",
              "    </tr>\n",
              "    <tr>\n",
              "      <th>2</th>\n",
              "      <td>76.40846</td>\n",
              "      <td>62.50184</td>\n",
              "      <td>70.91066</td>\n",
              "      <td>83.65107</td>\n",
              "      <td>75.81232</td>\n",
              "      <td>73.46238</td>\n",
              "      <td>78.72707</td>\n",
              "      <td>80.83133</td>\n",
              "      <td>80.58768</td>\n",
              "      <td>79.96562</td>\n",
              "    </tr>\n",
              "    <tr>\n",
              "      <th>3</th>\n",
              "      <td>72.64028</td>\n",
              "      <td>62.72359</td>\n",
              "      <td>71.70770</td>\n",
              "      <td>71.71293</td>\n",
              "      <td>70.69936</td>\n",
              "      <td>79.46967</td>\n",
              "      <td>76.85514</td>\n",
              "      <td>77.86652</td>\n",
              "      <td>77.24967</td>\n",
              "      <td>78.33711</td>\n",
              "    </tr>\n",
              "    <tr>\n",
              "      <th>4</th>\n",
              "      <td>118.95958</td>\n",
              "      <td>82.00438</td>\n",
              "      <td>83.84794</td>\n",
              "      <td>80.40048</td>\n",
              "      <td>80.64813</td>\n",
              "      <td>86.74073</td>\n",
              "      <td>90.89855</td>\n",
              "      <td>87.67083</td>\n",
              "      <td>85.88534</td>\n",
              "      <td>86.93229</td>\n",
              "    </tr>\n",
              "    <tr>\n",
              "      <th>5</th>\n",
              "      <td>82.97925</td>\n",
              "      <td>61.88108</td>\n",
              "      <td>65.54801</td>\n",
              "      <td>59.53692</td>\n",
              "      <td>75.45312</td>\n",
              "      <td>67.36771</td>\n",
              "      <td>61.14406</td>\n",
              "      <td>66.13959</td>\n",
              "      <td>67.73551</td>\n",
              "      <td>67.36372</td>\n",
              "    </tr>\n",
              "    <tr>\n",
              "      <th>6</th>\n",
              "      <td>76.18434</td>\n",
              "      <td>65.08857</td>\n",
              "      <td>69.81931</td>\n",
              "      <td>70.62222</td>\n",
              "      <td>68.35383</td>\n",
              "      <td>70.47346</td>\n",
              "      <td>67.89549</td>\n",
              "      <td>71.89055</td>\n",
              "      <td>74.54640</td>\n",
              "      <td>75.06871</td>\n",
              "    </tr>\n",
              "    <tr>\n",
              "      <th>7</th>\n",
              "      <td>60.29282</td>\n",
              "      <td>48.66334</td>\n",
              "      <td>59.89032</td>\n",
              "      <td>58.02635</td>\n",
              "      <td>56.43211</td>\n",
              "      <td>55.66685</td>\n",
              "      <td>54.96695</td>\n",
              "      <td>60.79733</td>\n",
              "      <td>64.49536</td>\n",
              "      <td>63.55508</td>\n",
              "    </tr>\n",
              "    <tr>\n",
              "      <th>8</th>\n",
              "      <td>133.75785</td>\n",
              "      <td>93.39369</td>\n",
              "      <td>99.85986</td>\n",
              "      <td>105.95280</td>\n",
              "      <td>98.82562</td>\n",
              "      <td>105.08918</td>\n",
              "      <td>104.69604</td>\n",
              "      <td>103.96380</td>\n",
              "      <td>104.82810</td>\n",
              "      <td>104.08194</td>\n",
              "    </tr>\n",
              "    <tr>\n",
              "      <th>9</th>\n",
              "      <td>95.53616</td>\n",
              "      <td>75.76057</td>\n",
              "      <td>87.45220</td>\n",
              "      <td>89.38065</td>\n",
              "      <td>81.48977</td>\n",
              "      <td>84.18368</td>\n",
              "      <td>88.06178</td>\n",
              "      <td>84.99322</td>\n",
              "      <td>84.14878</td>\n",
              "      <td>86.44153</td>\n",
              "    </tr>\n",
              "  </tbody>\n",
              "</table>\n",
              "</div>\n",
              "      <button class=\"colab-df-convert\" onclick=\"convertToInteractive('df-e22a68b5-f0c6-47b9-9302-9ecf3892e60a')\"\n",
              "              title=\"Convert this dataframe to an interactive table.\"\n",
              "              style=\"display:none;\">\n",
              "        \n",
              "  <svg xmlns=\"http://www.w3.org/2000/svg\" height=\"24px\"viewBox=\"0 0 24 24\"\n",
              "       width=\"24px\">\n",
              "    <path d=\"M0 0h24v24H0V0z\" fill=\"none\"/>\n",
              "    <path d=\"M18.56 5.44l.94 2.06.94-2.06 2.06-.94-2.06-.94-.94-2.06-.94 2.06-2.06.94zm-11 1L8.5 8.5l.94-2.06 2.06-.94-2.06-.94L8.5 2.5l-.94 2.06-2.06.94zm10 10l.94 2.06.94-2.06 2.06-.94-2.06-.94-.94-2.06-.94 2.06-2.06.94z\"/><path d=\"M17.41 7.96l-1.37-1.37c-.4-.4-.92-.59-1.43-.59-.52 0-1.04.2-1.43.59L10.3 9.45l-7.72 7.72c-.78.78-.78 2.05 0 2.83L4 21.41c.39.39.9.59 1.41.59.51 0 1.02-.2 1.41-.59l7.78-7.78 2.81-2.81c.8-.78.8-2.07 0-2.86zM5.41 20L4 18.59l7.72-7.72 1.47 1.35L5.41 20z\"/>\n",
              "  </svg>\n",
              "      </button>\n",
              "      \n",
              "  <style>\n",
              "    .colab-df-container {\n",
              "      display:flex;\n",
              "      flex-wrap:wrap;\n",
              "      gap: 12px;\n",
              "    }\n",
              "\n",
              "    .colab-df-convert {\n",
              "      background-color: #E8F0FE;\n",
              "      border: none;\n",
              "      border-radius: 50%;\n",
              "      cursor: pointer;\n",
              "      display: none;\n",
              "      fill: #1967D2;\n",
              "      height: 32px;\n",
              "      padding: 0 0 0 0;\n",
              "      width: 32px;\n",
              "    }\n",
              "\n",
              "    .colab-df-convert:hover {\n",
              "      background-color: #E2EBFA;\n",
              "      box-shadow: 0px 1px 2px rgba(60, 64, 67, 0.3), 0px 1px 3px 1px rgba(60, 64, 67, 0.15);\n",
              "      fill: #174EA6;\n",
              "    }\n",
              "\n",
              "    [theme=dark] .colab-df-convert {\n",
              "      background-color: #3B4455;\n",
              "      fill: #D2E3FC;\n",
              "    }\n",
              "\n",
              "    [theme=dark] .colab-df-convert:hover {\n",
              "      background-color: #434B5C;\n",
              "      box-shadow: 0px 1px 3px 1px rgba(0, 0, 0, 0.15);\n",
              "      filter: drop-shadow(0px 1px 2px rgba(0, 0, 0, 0.3));\n",
              "      fill: #FFFFFF;\n",
              "    }\n",
              "  </style>\n",
              "\n",
              "      <script>\n",
              "        const buttonEl =\n",
              "          document.querySelector('#df-e22a68b5-f0c6-47b9-9302-9ecf3892e60a button.colab-df-convert');\n",
              "        buttonEl.style.display =\n",
              "          google.colab.kernel.accessAllowed ? 'block' : 'none';\n",
              "\n",
              "        async function convertToInteractive(key) {\n",
              "          const element = document.querySelector('#df-e22a68b5-f0c6-47b9-9302-9ecf3892e60a');\n",
              "          const dataTable =\n",
              "            await google.colab.kernel.invokeFunction('convertToInteractive',\n",
              "                                                     [key], {});\n",
              "          if (!dataTable) return;\n",
              "\n",
              "          const docLinkHtml = 'Like what you see? Visit the ' +\n",
              "            '<a target=\"_blank\" href=https://colab.research.google.com/notebooks/data_table.ipynb>data table notebook</a>'\n",
              "            + ' to learn more about interactive tables.';\n",
              "          element.innerHTML = '';\n",
              "          dataTable['output_type'] = 'display_data';\n",
              "          await google.colab.output.renderOutput(dataTable, element);\n",
              "          const docLink = document.createElement('div');\n",
              "          docLink.innerHTML = docLinkHtml;\n",
              "          element.appendChild(docLink);\n",
              "        }\n",
              "      </script>\n",
              "    </div>\n",
              "  </div>\n",
              "  "
            ]
          },
          "metadata": {},
          "execution_count": 20
        }
      ],
      "source": [
        "\n",
        "\n",
        "for k_fold, indices_dict in k_folds_dict.items():\n",
        "\n",
        "    # Get our training folds and testing folds\n",
        "    X_train_folds, y_train_folds = X_train[indices_dict['train_indices']], y_train[indices_dict['train_indices']]\n",
        "    X_test_fold, y_test_fold = X_train[indices_dict['test_indices']], y_train[indices_dict['test_indices']]\n",
        "\n",
        "    # Now let's try out all of the possible k values\n",
        "    for k in options_for_k:\n",
        "        optimal_betas = solve_gurobi(X_train_folds,y_train_folds,k)\n",
        "\n",
        "        validation_mse = sse(y_test_fold,predict_y(X_test_fold,optimal_betas))\n",
        "\n",
        "        gurobi_results.loc[k_fold,k] = validation_mse  \n",
        "\n",
        "gurobi_results.to_csv('gurobi_sse_results.csv',index=False)\n",
        "\n",
        "gurobi_results"
      ]
    },
    {
      "cell_type": "code",
      "execution_count": null,
      "metadata": {
        "colab": {
          "base_uri": "https://localhost:8080/",
          "height": 363
        },
        "id": "3xS56NiRoYg1",
        "outputId": "149c55d0-809d-4842-b7ef-563e316063b1"
      },
      "outputs": [
        {
          "output_type": "execute_result",
          "data": {
            "text/plain": [
              "   Total SSE\n",
              "5  914.11453\n",
              "10 703.96601\n",
              "15 779.46622\n",
              "20 793.42285\n",
              "25 782.62708\n",
              "30 813.98226\n",
              "35 817.32599\n",
              "40 828.47247\n",
              "45 836.68975\n",
              "50 840.45402"
            ],
            "text/html": [
              "\n",
              "  <div id=\"df-3acf0743-a26a-4a4d-82ac-5ec913698426\">\n",
              "    <div class=\"colab-df-container\">\n",
              "      <div>\n",
              "<style scoped>\n",
              "    .dataframe tbody tr th:only-of-type {\n",
              "        vertical-align: middle;\n",
              "    }\n",
              "\n",
              "    .dataframe tbody tr th {\n",
              "        vertical-align: top;\n",
              "    }\n",
              "\n",
              "    .dataframe thead th {\n",
              "        text-align: right;\n",
              "    }\n",
              "</style>\n",
              "<table border=\"1\" class=\"dataframe\">\n",
              "  <thead>\n",
              "    <tr style=\"text-align: right;\">\n",
              "      <th></th>\n",
              "      <th>Total SSE</th>\n",
              "    </tr>\n",
              "  </thead>\n",
              "  <tbody>\n",
              "    <tr>\n",
              "      <th>5</th>\n",
              "      <td>914.11453</td>\n",
              "    </tr>\n",
              "    <tr>\n",
              "      <th>10</th>\n",
              "      <td>703.96601</td>\n",
              "    </tr>\n",
              "    <tr>\n",
              "      <th>15</th>\n",
              "      <td>779.46622</td>\n",
              "    </tr>\n",
              "    <tr>\n",
              "      <th>20</th>\n",
              "      <td>793.42285</td>\n",
              "    </tr>\n",
              "    <tr>\n",
              "      <th>25</th>\n",
              "      <td>782.62708</td>\n",
              "    </tr>\n",
              "    <tr>\n",
              "      <th>30</th>\n",
              "      <td>813.98226</td>\n",
              "    </tr>\n",
              "    <tr>\n",
              "      <th>35</th>\n",
              "      <td>817.32599</td>\n",
              "    </tr>\n",
              "    <tr>\n",
              "      <th>40</th>\n",
              "      <td>828.47247</td>\n",
              "    </tr>\n",
              "    <tr>\n",
              "      <th>45</th>\n",
              "      <td>836.68975</td>\n",
              "    </tr>\n",
              "    <tr>\n",
              "      <th>50</th>\n",
              "      <td>840.45402</td>\n",
              "    </tr>\n",
              "  </tbody>\n",
              "</table>\n",
              "</div>\n",
              "      <button class=\"colab-df-convert\" onclick=\"convertToInteractive('df-3acf0743-a26a-4a4d-82ac-5ec913698426')\"\n",
              "              title=\"Convert this dataframe to an interactive table.\"\n",
              "              style=\"display:none;\">\n",
              "        \n",
              "  <svg xmlns=\"http://www.w3.org/2000/svg\" height=\"24px\"viewBox=\"0 0 24 24\"\n",
              "       width=\"24px\">\n",
              "    <path d=\"M0 0h24v24H0V0z\" fill=\"none\"/>\n",
              "    <path d=\"M18.56 5.44l.94 2.06.94-2.06 2.06-.94-2.06-.94-.94-2.06-.94 2.06-2.06.94zm-11 1L8.5 8.5l.94-2.06 2.06-.94-2.06-.94L8.5 2.5l-.94 2.06-2.06.94zm10 10l.94 2.06.94-2.06 2.06-.94-2.06-.94-.94-2.06-.94 2.06-2.06.94z\"/><path d=\"M17.41 7.96l-1.37-1.37c-.4-.4-.92-.59-1.43-.59-.52 0-1.04.2-1.43.59L10.3 9.45l-7.72 7.72c-.78.78-.78 2.05 0 2.83L4 21.41c.39.39.9.59 1.41.59.51 0 1.02-.2 1.41-.59l7.78-7.78 2.81-2.81c.8-.78.8-2.07 0-2.86zM5.41 20L4 18.59l7.72-7.72 1.47 1.35L5.41 20z\"/>\n",
              "  </svg>\n",
              "      </button>\n",
              "      \n",
              "  <style>\n",
              "    .colab-df-container {\n",
              "      display:flex;\n",
              "      flex-wrap:wrap;\n",
              "      gap: 12px;\n",
              "    }\n",
              "\n",
              "    .colab-df-convert {\n",
              "      background-color: #E8F0FE;\n",
              "      border: none;\n",
              "      border-radius: 50%;\n",
              "      cursor: pointer;\n",
              "      display: none;\n",
              "      fill: #1967D2;\n",
              "      height: 32px;\n",
              "      padding: 0 0 0 0;\n",
              "      width: 32px;\n",
              "    }\n",
              "\n",
              "    .colab-df-convert:hover {\n",
              "      background-color: #E2EBFA;\n",
              "      box-shadow: 0px 1px 2px rgba(60, 64, 67, 0.3), 0px 1px 3px 1px rgba(60, 64, 67, 0.15);\n",
              "      fill: #174EA6;\n",
              "    }\n",
              "\n",
              "    [theme=dark] .colab-df-convert {\n",
              "      background-color: #3B4455;\n",
              "      fill: #D2E3FC;\n",
              "    }\n",
              "\n",
              "    [theme=dark] .colab-df-convert:hover {\n",
              "      background-color: #434B5C;\n",
              "      box-shadow: 0px 1px 3px 1px rgba(0, 0, 0, 0.15);\n",
              "      filter: drop-shadow(0px 1px 2px rgba(0, 0, 0, 0.3));\n",
              "      fill: #FFFFFF;\n",
              "    }\n",
              "  </style>\n",
              "\n",
              "      <script>\n",
              "        const buttonEl =\n",
              "          document.querySelector('#df-3acf0743-a26a-4a4d-82ac-5ec913698426 button.colab-df-convert');\n",
              "        buttonEl.style.display =\n",
              "          google.colab.kernel.accessAllowed ? 'block' : 'none';\n",
              "\n",
              "        async function convertToInteractive(key) {\n",
              "          const element = document.querySelector('#df-3acf0743-a26a-4a4d-82ac-5ec913698426');\n",
              "          const dataTable =\n",
              "            await google.colab.kernel.invokeFunction('convertToInteractive',\n",
              "                                                     [key], {});\n",
              "          if (!dataTable) return;\n",
              "\n",
              "          const docLinkHtml = 'Like what you see? Visit the ' +\n",
              "            '<a target=\"_blank\" href=https://colab.research.google.com/notebooks/data_table.ipynb>data table notebook</a>'\n",
              "            + ' to learn more about interactive tables.';\n",
              "          element.innerHTML = '';\n",
              "          dataTable['output_type'] = 'display_data';\n",
              "          await google.colab.output.renderOutput(dataTable, element);\n",
              "          const docLink = document.createElement('div');\n",
              "          docLink.innerHTML = docLinkHtml;\n",
              "          element.appendChild(docLink);\n",
              "        }\n",
              "      </script>\n",
              "    </div>\n",
              "  </div>\n",
              "  "
            ]
          },
          "metadata": {},
          "execution_count": 21
        }
      ],
      "source": [
        "\n",
        "sse_per_fold = gurobi_results.sum()\n",
        "pd.DataFrame(sse_per_fold,columns=['Total SSE'])"
      ]
    },
    {
      "cell_type": "markdown",
      "metadata": {
        "id": "I14nsIANoYg1"
      },
      "source": [
        "We can plot the results to see how the total error evolves as the K changes."
      ]
    },
    {
      "cell_type": "code",
      "execution_count": null,
      "metadata": {
        "colab": {
          "base_uri": "https://localhost:8080/",
          "height": 375
        },
        "id": "RPeUEr8JoYg1",
        "outputId": "4d9c0cb5-4c39-4dc4-aefa-3257856fb0b1"
      },
      "outputs": [
        {
          "output_type": "execute_result",
          "data": {
            "text/plain": [
              "Text(0, 0.5, 'Aggregate SSE Across All Folds')"
            ]
          },
          "metadata": {},
          "execution_count": 23
        },
        {
          "output_type": "display_data",
          "data": {
            "text/plain": [
              "<Figure size 720x360 with 1 Axes>"
            ],
            "image/png": "[encoded data removed]"
          },
          "metadata": {
            "needs_background": "light"
          }
        }
      ],
      "source": [
        "sse_per_fold.plot(figsize=(10,5),marker='o')\n",
        "plt.title('Total Sum of Squares Error , by $K$')\n",
        "plt.xlabel('K')\n",
        "plt.ylabel('Aggregate SSE Across All Folds')"
      ]
    },
    {
      "cell_type": "markdown",
      "metadata": {
        "id": "vvALo4VWoYg1"
      },
      "source": [
        "We are able to capture a minimum here where k = 10."
      ]
    },
    {
      "cell_type": "code",
      "execution_count": null,
      "metadata": {
        "colab": {
          "base_uri": "https://localhost:8080/"
        },
        "id": "HgUOXhlooYg1",
        "outputId": "992e5f9f-f77f-457a-ad30-90a26ef06ff1"
      },
      "outputs": [
        {
          "output_type": "stream",
          "name": "stdout",
          "text": [
            "The best K = 10\n"
          ]
        }
      ],
      "source": [
        "# Store the best K for later use\n",
        "best_k = int(sse_per_fold.sort_values().index[0])\n",
        "print(f'The best K = {best_k}')"
      ]
    },
    {
      "cell_type": "markdown",
      "metadata": {
        "id": "6a3Zu6UYoYg1"
      },
      "source": [
        "Fit the entire data set using the best k calculated above and finally, test on the hold out set."
      ]
    },
    {
      "cell_type": "code",
      "execution_count": null,
      "metadata": {
        "id": "pjcFXi5toYg1"
      },
      "outputs": [],
      "source": [
        "\n",
        "best_results = pd.DataFrame(columns=['SSE','MSE','R_Squared'])"
      ]
    },
    {
      "cell_type": "code",
      "execution_count": null,
      "metadata": {
        "colab": {
          "base_uri": "https://localhost:8080/",
          "height": 81
        },
        "id": "25GMGbn1oYg2",
        "outputId": "9028a190-1d73-4a7b-96b1-645533c66aad"
      },
      "outputs": [
        {
          "output_type": "execute_result",
          "data": {
            "text/plain": [
              "                    SSE     MSE  R_Squared\n",
              "Gurobi_Method 116.82720 2.33654    0.85867"
            ],
            "text/html": [
              "\n",
              "  <div id=\"df-8bcb156a-88c5-4bfe-acca-c64cb1d861d9\">\n",
              "    <div class=\"colab-df-container\">\n",
              "      <div>\n",
              "<style scoped>\n",
              "    .dataframe tbody tr th:only-of-type {\n",
              "        vertical-align: middle;\n",
              "    }\n",
              "\n",
              "    .dataframe tbody tr th {\n",
              "        vertical-align: top;\n",
              "    }\n",
              "\n",
              "    .dataframe thead th {\n",
              "        text-align: right;\n",
              "    }\n",
              "</style>\n",
              "<table border=\"1\" class=\"dataframe\">\n",
              "  <thead>\n",
              "    <tr style=\"text-align: right;\">\n",
              "      <th></th>\n",
              "      <th>SSE</th>\n",
              "      <th>MSE</th>\n",
              "      <th>R_Squared</th>\n",
              "    </tr>\n",
              "  </thead>\n",
              "  <tbody>\n",
              "    <tr>\n",
              "      <th>Gurobi_Method</th>\n",
              "      <td>116.82720</td>\n",
              "      <td>2.33654</td>\n",
              "      <td>0.85867</td>\n",
              "    </tr>\n",
              "  </tbody>\n",
              "</table>\n",
              "</div>\n",
              "      <button class=\"colab-df-convert\" onclick=\"convertToInteractive('df-8bcb156a-88c5-4bfe-acca-c64cb1d861d9')\"\n",
              "              title=\"Convert this dataframe to an interactive table.\"\n",
              "              style=\"display:none;\">\n",
              "        \n",
              "  <svg xmlns=\"http://www.w3.org/2000/svg\" height=\"24px\"viewBox=\"0 0 24 24\"\n",
              "       width=\"24px\">\n",
              "    <path d=\"M0 0h24v24H0V0z\" fill=\"none\"/>\n",
              "    <path d=\"M18.56 5.44l.94 2.06.94-2.06 2.06-.94-2.06-.94-.94-2.06-.94 2.06-2.06.94zm-11 1L8.5 8.5l.94-2.06 2.06-.94-2.06-.94L8.5 2.5l-.94 2.06-2.06.94zm10 10l.94 2.06.94-2.06 2.06-.94-2.06-.94-.94-2.06-.94 2.06-2.06.94z\"/><path d=\"M17.41 7.96l-1.37-1.37c-.4-.4-.92-.59-1.43-.59-.52 0-1.04.2-1.43.59L10.3 9.45l-7.72 7.72c-.78.78-.78 2.05 0 2.83L4 21.41c.39.39.9.59 1.41.59.51 0 1.02-.2 1.41-.59l7.78-7.78 2.81-2.81c.8-.78.8-2.07 0-2.86zM5.41 20L4 18.59l7.72-7.72 1.47 1.35L5.41 20z\"/>\n",
              "  </svg>\n",
              "      </button>\n",
              "      \n",
              "  <style>\n",
              "    .colab-df-container {\n",
              "      display:flex;\n",
              "      flex-wrap:wrap;\n",
              "      gap: 12px;\n",
              "    }\n",
              "\n",
              "    .colab-df-convert {\n",
              "      background-color: #E8F0FE;\n",
              "      border: none;\n",
              "      border-radius: 50%;\n",
              "      cursor: pointer;\n",
              "      display: none;\n",
              "      fill: #1967D2;\n",
              "      height: 32px;\n",
              "      padding: 0 0 0 0;\n",
              "      width: 32px;\n",
              "    }\n",
              "\n",
              "    .colab-df-convert:hover {\n",
              "      background-color: #E2EBFA;\n",
              "      box-shadow: 0px 1px 2px rgba(60, 64, 67, 0.3), 0px 1px 3px 1px rgba(60, 64, 67, 0.15);\n",
              "      fill: #174EA6;\n",
              "    }\n",
              "\n",
              "    [theme=dark] .colab-df-convert {\n",
              "      background-color: #3B4455;\n",
              "      fill: #D2E3FC;\n",
              "    }\n",
              "\n",
              "    [theme=dark] .colab-df-convert:hover {\n",
              "      background-color: #434B5C;\n",
              "      box-shadow: 0px 1px 3px 1px rgba(0, 0, 0, 0.15);\n",
              "      filter: drop-shadow(0px 1px 2px rgba(0, 0, 0, 0.3));\n",
              "      fill: #FFFFFF;\n",
              "    }\n",
              "  </style>\n",
              "\n",
              "      <script>\n",
              "        const buttonEl =\n",
              "          document.querySelector('#df-8bcb156a-88c5-4bfe-acca-c64cb1d861d9 button.colab-df-convert');\n",
              "        buttonEl.style.display =\n",
              "          google.colab.kernel.accessAllowed ? 'block' : 'none';\n",
              "\n",
              "        async function convertToInteractive(key) {\n",
              "          const element = document.querySelector('#df-8bcb156a-88c5-4bfe-acca-c64cb1d861d9');\n",
              "          const dataTable =\n",
              "            await google.colab.kernel.invokeFunction('convertToInteractive',\n",
              "                                                     [key], {});\n",
              "          if (!dataTable) return;\n",
              "\n",
              "          const docLinkHtml = 'Like what you see? Visit the ' +\n",
              "            '<a target=\"_blank\" href=https://colab.research.google.com/notebooks/data_table.ipynb>data table notebook</a>'\n",
              "            + ' to learn more about interactive tables.';\n",
              "          element.innerHTML = '';\n",
              "          dataTable['output_type'] = 'display_data';\n",
              "          await google.colab.output.renderOutput(dataTable, element);\n",
              "          const docLink = document.createElement('div');\n",
              "          docLink.innerHTML = docLinkHtml;\n",
              "          element.appendChild(docLink);\n",
              "        }\n",
              "      </script>\n",
              "    </div>\n",
              "  </div>\n",
              "  "
            ]
          },
          "metadata": {},
          "execution_count": 27
        }
      ],
      "source": [
        "# Create and fit the model with the best K\n",
        "best_gurobi_betas = solve_gurobi(X_train,y_train,k=best_k)\n",
        "\n",
        "\n",
        "gurobi_predictions = predict_y(X_test,best_gurobi_betas)\n",
        "gurobi_sse = sse(y_test,gurobi_predictions)\n",
        "gurobi_mse = mean_squared_error(y_test,gurobi_predictions)\n",
        "gurobi_r_squared = r2_score(y_test,gurobi_predictions)\n",
        "\n",
        "best_results.loc['Gurobi_Method'] = [gurobi_sse,gurobi_mse,gurobi_r_squared]\n",
        "best_results"
      ]
    },
    {
      "cell_type": "markdown",
      "metadata": {
        "id": "F28xnw9voYg2"
      },
      "source": [
        "## Picking Lambda with scikitlearn"
      ]
    },
    {
      "cell_type": "code",
      "execution_count": null,
      "metadata": {
        "colab": {
          "base_uri": "https://localhost:8080/"
        },
        "id": "6qQWDhB1oYg2",
        "outputId": "7d43921c-c6b7-47ae-d921-d8b33fcb753a"
      },
      "outputs": [
        {
          "output_type": "stream",
          "name": "stdout",
          "text": [
            "The best lambda = 0.07638765995113514\n"
          ]
        }
      ],
      "source": [
        "lasso_model_cv = linear_model.LassoCV(cv=10).fit(X_train_old,y_train_old)\n",
        "best_lambda = lasso_model_cv.alpha_\n",
        "print(f'The best lambda = {best_lambda}')"
      ]
    },
    {
      "cell_type": "markdown",
      "metadata": {
        "id": "6Sx_9vOloYg2"
      },
      "source": [
        "Fit the entire data set using the best lambda calculated above and finally, test on the hold out set."
      ]
    },
    {
      "cell_type": "code",
      "execution_count": null,
      "metadata": {
        "id": "Ug2XflZLoYg2"
      },
      "outputs": [],
      "source": [
        "# Create and fit the best lasso.\n",
        "lasso_model = Lasso(best_lambda).fit(X_train_old, y_train_old)\n",
        "\n",
        "# Predict on hold out set and put the metrics into the best results df\n",
        "\n",
        "lasso_predictions = lasso_model.predict(X_test[:,1:])\n",
        "lasso_sse = sse(y_test,lasso_predictions)\n",
        "lasso_mse = mean_squared_error(y_test,lasso_predictions)\n",
        "lasso_r_squared = r2_score(y_test,lasso_predictions)\n",
        "\n",
        "best_results.loc['Lasso_Metrics'] = [lasso_sse, lasso_mse, lasso_r_squared]"
      ]
    },
    {
      "cell_type": "markdown",
      "metadata": {
        "id": "-6sOOLxsoYg2"
      },
      "source": [
        "## Comparison"
      ]
    },
    {
      "cell_type": "code",
      "execution_count": null,
      "metadata": {
        "colab": {
          "base_uri": "https://localhost:8080/",
          "height": 112
        },
        "id": "rzc81wQ6oYg3",
        "outputId": "78fbc528-9e68-41fb-b22c-15e52f9334ad"
      },
      "outputs": [
        {
          "output_type": "execute_result",
          "data": {
            "text/plain": [
              "                    SSE     MSE  R_Squared\n",
              "Gurobi_Method 116.82720 2.33654    0.85867\n",
              "Lasso_Metrics 117.48174 2.34963    0.85788"
            ],
            "text/html": [
              "\n",
              "  <div id=\"df-e4f77c53-3bd8-4a2b-91eb-7c7ee3641416\">\n",
              "    <div class=\"colab-df-container\">\n",
              "      <div>\n",
              "<style scoped>\n",
              "    .dataframe tbody tr th:only-of-type {\n",
              "        vertical-align: middle;\n",
              "    }\n",
              "\n",
              "    .dataframe tbody tr th {\n",
              "        vertical-align: top;\n",
              "    }\n",
              "\n",
              "    .dataframe thead th {\n",
              "        text-align: right;\n",
              "    }\n",
              "</style>\n",
              "<table border=\"1\" class=\"dataframe\">\n",
              "  <thead>\n",
              "    <tr style=\"text-align: right;\">\n",
              "      <th></th>\n",
              "      <th>SSE</th>\n",
              "      <th>MSE</th>\n",
              "      <th>R_Squared</th>\n",
              "    </tr>\n",
              "  </thead>\n",
              "  <tbody>\n",
              "    <tr>\n",
              "      <th>Gurobi_Method</th>\n",
              "      <td>116.82720</td>\n",
              "      <td>2.33654</td>\n",
              "      <td>0.85867</td>\n",
              "    </tr>\n",
              "    <tr>\n",
              "      <th>Lasso_Metrics</th>\n",
              "      <td>117.48174</td>\n",
              "      <td>2.34963</td>\n",
              "      <td>0.85788</td>\n",
              "    </tr>\n",
              "  </tbody>\n",
              "</table>\n",
              "</div>\n",
              "      <button class=\"colab-df-convert\" onclick=\"convertToInteractive('df-e4f77c53-3bd8-4a2b-91eb-7c7ee3641416')\"\n",
              "              title=\"Convert this dataframe to an interactive table.\"\n",
              "              style=\"display:none;\">\n",
              "        \n",
              "  <svg xmlns=\"http://www.w3.org/2000/svg\" height=\"24px\"viewBox=\"0 0 24 24\"\n",
              "       width=\"24px\">\n",
              "    <path d=\"M0 0h24v24H0V0z\" fill=\"none\"/>\n",
              "    <path d=\"M18.56 5.44l.94 2.06.94-2.06 2.06-.94-2.06-.94-.94-2.06-.94 2.06-2.06.94zm-11 1L8.5 8.5l.94-2.06 2.06-.94-2.06-.94L8.5 2.5l-.94 2.06-2.06.94zm10 10l.94 2.06.94-2.06 2.06-.94-2.06-.94-.94-2.06-.94 2.06-2.06.94z\"/><path d=\"M17.41 7.96l-1.37-1.37c-.4-.4-.92-.59-1.43-.59-.52 0-1.04.2-1.43.59L10.3 9.45l-7.72 7.72c-.78.78-.78 2.05 0 2.83L4 21.41c.39.39.9.59 1.41.59.51 0 1.02-.2 1.41-.59l7.78-7.78 2.81-2.81c.8-.78.8-2.07 0-2.86zM5.41 20L4 18.59l7.72-7.72 1.47 1.35L5.41 20z\"/>\n",
              "  </svg>\n",
              "      </button>\n",
              "      \n",
              "  <style>\n",
              "    .colab-df-container {\n",
              "      display:flex;\n",
              "      flex-wrap:wrap;\n",
              "      gap: 12px;\n",
              "    }\n",
              "\n",
              "    .colab-df-convert {\n",
              "      background-color: #E8F0FE;\n",
              "      border: none;\n",
              "      border-radius: 50%;\n",
              "      cursor: pointer;\n",
              "      display: none;\n",
              "      fill: #1967D2;\n",
              "      height: 32px;\n",
              "      padding: 0 0 0 0;\n",
              "      width: 32px;\n",
              "    }\n",
              "\n",
              "    .colab-df-convert:hover {\n",
              "      background-color: #E2EBFA;\n",
              "      box-shadow: 0px 1px 2px rgba(60, 64, 67, 0.3), 0px 1px 3px 1px rgba(60, 64, 67, 0.15);\n",
              "      fill: #174EA6;\n",
              "    }\n",
              "\n",
              "    [theme=dark] .colab-df-convert {\n",
              "      background-color: #3B4455;\n",
              "      fill: #D2E3FC;\n",
              "    }\n",
              "\n",
              "    [theme=dark] .colab-df-convert:hover {\n",
              "      background-color: #434B5C;\n",
              "      box-shadow: 0px 1px 3px 1px rgba(0, 0, 0, 0.15);\n",
              "      filter: drop-shadow(0px 1px 2px rgba(0, 0, 0, 0.3));\n",
              "      fill: #FFFFFF;\n",
              "    }\n",
              "  </style>\n",
              "\n",
              "      <script>\n",
              "        const buttonEl =\n",
              "          document.querySelector('#df-e4f77c53-3bd8-4a2b-91eb-7c7ee3641416 button.colab-df-convert');\n",
              "        buttonEl.style.display =\n",
              "          google.colab.kernel.accessAllowed ? 'block' : 'none';\n",
              "\n",
              "        async function convertToInteractive(key) {\n",
              "          const element = document.querySelector('#df-e4f77c53-3bd8-4a2b-91eb-7c7ee3641416');\n",
              "          const dataTable =\n",
              "            await google.colab.kernel.invokeFunction('convertToInteractive',\n",
              "                                                     [key], {});\n",
              "          if (!dataTable) return;\n",
              "\n",
              "          const docLinkHtml = 'Like what you see? Visit the ' +\n",
              "            '<a target=\"_blank\" href=https://colab.research.google.com/notebooks/data_table.ipynb>data table notebook</a>'\n",
              "            + ' to learn more about interactive tables.';\n",
              "          element.innerHTML = '';\n",
              "          dataTable['output_type'] = 'display_data';\n",
              "          await google.colab.output.renderOutput(dataTable, element);\n",
              "          const docLink = document.createElement('div');\n",
              "          docLink.innerHTML = docLinkHtml;\n",
              "          element.appendChild(docLink);\n",
              "        }\n",
              "      </script>\n",
              "    </div>\n",
              "  </div>\n",
              "  "
            ]
          },
          "metadata": {},
          "execution_count": 34
        }
      ],
      "source": [
        "best_results"
      ]
    },
    {
      "cell_type": "code",
      "execution_count": null,
      "metadata": {
        "colab": {
          "base_uri": "https://localhost:8080/"
        },
        "id": "qll3lECyoYg3",
        "outputId": "edbd66f5-ba23-4ef7-9844-430e9ff207ae"
      },
      "outputs": [
        {
          "output_type": "stream",
          "name": "stdout",
          "text": [
            "The number of  betas using the lasso method =  17\n",
            "The number of  betas using the Gurobi Optimization method =  10\n"
          ]
        }
      ],
      "source": [
        "print(f'The number of  betas using the lasso method =  {(lasso_model.coef_ != 0).sum()}')\n",
        "print(f'The number of  betas using the Gurobi Optimization method =  {(best_gurobi_betas != 0).sum()-1}')"
      ]
    },
    {
      "cell_type": "code",
      "execution_count": null,
      "metadata": {
        "colab": {
          "base_uri": "https://localhost:8080/"
        },
        "id": "zF6yW-UaoYg3",
        "outputId": "7d518f14-e06b-4932-ec90-2bcbca1e0305"
      },
      "outputs": [
        {
          "output_type": "execute_result",
          "data": {
            "text/plain": [
              "{'x1': -0.0,\n",
              " 'x2': -0.0,\n",
              " 'x3': 0.0,\n",
              " 'x4': 0.0,\n",
              " 'x5': -0.0,\n",
              " 'x6': 0.0,\n",
              " 'x7': -0.0,\n",
              " 'x8': -0.0,\n",
              " 'x9': -2.1605476452260297,\n",
              " 'x10': 0.0,\n",
              " 'x11': -0.05964031098134874,\n",
              " 'x12': -0.0,\n",
              " 'x13': -0.0,\n",
              " 'x14': -0.0,\n",
              " 'x15': -0.41912484407542994,\n",
              " 'x16': -0.19325407849784226,\n",
              " 'x17': 0.0,\n",
              " 'x18': 0.0,\n",
              " 'x19': -0.0,\n",
              " 'x20': 0.0,\n",
              " 'x21': 0.0,\n",
              " 'x22': -0.19517758964637522,\n",
              " 'x23': -1.363887375193064,\n",
              " 'x24': 0.7425965005682696,\n",
              " 'x25': -0.0,\n",
              " 'x26': -1.3048157442977075,\n",
              " 'x27': -0.0,\n",
              " 'x28': 0.0,\n",
              " 'x29': 0.05798283048603748,\n",
              " 'x30': 0.0,\n",
              " 'x31': -0.0,\n",
              " 'x32': 0.0,\n",
              " 'x33': -0.09737838635372846,\n",
              " 'x34': 0.2834162868334561,\n",
              " 'x35': 0.0,\n",
              " 'x36': 0.0,\n",
              " 'x37': 0.0,\n",
              " 'x38': 0.0,\n",
              " 'x39': -0.23157872750798203,\n",
              " 'x40': 0.0,\n",
              " 'x41': -0.0,\n",
              " 'x42': 0.0,\n",
              " 'x43': 0.0,\n",
              " 'x44': 0.030781912040408668,\n",
              " 'x45': 1.563621715601988,\n",
              " 'x46': -0.021600326247110318,\n",
              " 'x47': 0.6999244711955707,\n",
              " 'x48': -0.09289744743686544,\n",
              " 'x49': 0.0,\n",
              " 'x50': 0.0}"
            ]
          },
          "metadata": {},
          "execution_count": 56
        }
      ],
      "source": [
        "lasso=dict()\n",
        "for i in range(len(lasso_model.coef_)):\n",
        "  y='x'+str(i+1)\n",
        "  lasso[y]=lasso_model.coef_[i]\n",
        "lasso"
      ]
    },
    {
      "cell_type": "code",
      "execution_count": null,
      "metadata": {
        "colab": {
          "base_uri": "https://localhost:8080/"
        },
        "id": "wL-RwOqAoYg3",
        "outputId": "fa0de5a4-eb86-4b9f-9614-1ed6096f878e"
      },
      "outputs": [
        {
          "output_type": "execute_result",
          "data": {
            "text/plain": [
              "{'x1': 0.9725240765514848,\n",
              " 'x2': 0.0,\n",
              " 'x3': 0.0,\n",
              " 'x4': 0.0,\n",
              " 'x5': 0.0,\n",
              " 'x6': 0.0,\n",
              " 'x7': 0.0,\n",
              " 'x8': 0.0,\n",
              " 'x9': 0.0,\n",
              " 'x10': -2.308207261938351,\n",
              " 'x11': 0.0,\n",
              " 'x12': 0.0,\n",
              " 'x13': 0.0,\n",
              " 'x14': 0.0,\n",
              " 'x15': 0.0,\n",
              " 'x16': -0.5183261233652076,\n",
              " 'x17': -0.20416201346654356,\n",
              " 'x18': 0.0,\n",
              " 'x19': 0.0,\n",
              " 'x20': 0.0,\n",
              " 'x21': 0.0,\n",
              " 'x22': 0.0,\n",
              " 'x23': 0.0,\n",
              " 'x24': -1.5591431785888534,\n",
              " 'x25': 0.8669733628924517,\n",
              " 'x26': 0.0,\n",
              " 'x27': -1.311919415122682,\n",
              " 'x28': 0.0,\n",
              " 'x29': 0.0,\n",
              " 'x30': 0.0,\n",
              " 'x31': 0.0,\n",
              " 'x32': 0.0,\n",
              " 'x33': 0.0,\n",
              " 'x34': 0.0,\n",
              " 'x35': 0.4081653033058826,\n",
              " 'x36': 0.0,\n",
              " 'x37': 0.0,\n",
              " 'x38': 0.0,\n",
              " 'x39': 0.0,\n",
              " 'x40': 0.0,\n",
              " 'x41': 0.0,\n",
              " 'x42': 0.0,\n",
              " 'x43': 0.0,\n",
              " 'x44': 0.0,\n",
              " 'x45': 0.0,\n",
              " 'x46': 1.781474891076474,\n",
              " 'x47': 0.0,\n",
              " 'x48': 0.8873829240125514,\n",
              " 'x49': -0.28229212764205974,\n",
              " 'x50': 0.0}"
            ]
          },
          "metadata": {},
          "execution_count": 60
        }
      ],
      "source": [
        "\n",
        "Gurobi=dict()\n",
        "for i in range(50):\n",
        "  y='x'+str(i+1)\n",
        "  Gurobi[y]=best_gurobi_betas[i]\n",
        "\n",
        "Gurobi"
      ]
    },
    {
      "cell_type": "code",
      "source": [
        "import numpy as np\n",
        "import matplotlib.pyplot as plt\n",
        "\n",
        "\n",
        "X = np.arange(len(Gurobi))\n",
        "ax = plt.subplot(111)\n",
        "ax.set_xlim(0,0.001)\n",
        "ax.set_ylim(-3,3)\n",
        "ax.bar(X, Gurobi.values(), width=1, color='b', align='center')\n",
        "ax.bar(X-1, lasso.values(), width=1, color='g', align='center')\n",
        "ax.legend(('Gurobi','LASSO'))\n",
        "plt.xticks(X, lasso.keys())\n",
        "plt.title(\"Beta values vs features\", fontsize=17)\n",
        "plt.xlabel('features', fontsize=18)\n",
        "plt.ylabel('Beta values', fontsize=16)\n",
        "plt.xticks(fontsize=7, rotation=90)\n",
        "plt.show()"
      ],
      "metadata": {
        "colab": {
          "base_uri": "https://localhost:8080/",
          "height": 313
        },
        "id": "Mj2lEAdDDAzB",
        "outputId": "d34cb40a-d341-4237-da9b-d8f996184920"
      },
      "execution_count": null,
      "outputs": [
        {
          "output_type": "display_data",
          "data": {
            "text/plain": [
              "<Figure size 432x288 with 1 Axes>"
            ],
            "image/png": "[encoded data removed]"
          },
          "metadata": {
            "needs_background": "light"
          }
        }
      ]
    }
  ],
  "metadata": {
    "interpreter": {
      "hash": "2647ea34e536f865ab67ff9ddee7fd78773d956cec0cab53c79b32cd10da5d83"
    },
    "kernelspec": {
      "display_name": "Python 3 (ipykernel)",
      "language": "python",
      "name": "python3"
    },
    "language_info": {
      "codemirror_mode": {
        "name": "ipython",
        "version": 3
      },
      "file_extension": ".py",
      "mimetype": "text/x-python",
      "name": "python",
      "nbconvert_exporter": "python",
      "pygments_lexer": "ipython3",
      "version": "3.9.13"
    },
    "colab": {
      "provenance": []
    }
  },
  "nbformat": 4,
  "nbformat_minor": 0
}